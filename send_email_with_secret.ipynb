{
  "nbformat": 4,
  "nbformat_minor": 0,
  "metadata": {
    "colab": {
      "provenance": [],
      "authorship_tag": "ABX9TyPCtmogyCVY9XhHSeMuEnWA",
      "include_colab_link": true
    },
    "kernelspec": {
      "name": "python3",
      "display_name": "Python 3"
    },
    "language_info": {
      "name": "python"
    }
  },
  "cells": [
    {
      "cell_type": "markdown",
      "metadata": {
        "id": "view-in-github",
        "colab_type": "text"
      },
      "source": [
        "<a href=\"https://colab.research.google.com/github/thinkboxer2/sendmail/blob/main/send_email_with_secret.ipynb\" target=\"_parent\"><img src=\"https://colab.research.google.com/assets/colab-badge.svg\" alt=\"Open In Colab\"/></a>"
      ]
    },
    {
      "cell_type": "code",
      "source": [
        "!pip install yagmail\n",
        "#!pip install keyring\n",
        "#import keyring as kr\n",
        "\n",
        "import yagmail\n",
        "from google.colab import userdata # secret data in colab notebook check dat die is aangevinkt voor dit notebook\n",
        "\n",
        "\n",
        "sender = userdata.get(\"MailSender\") #hier e-mail adres sender of link naar secret\n",
        "receiver = userdata.get(\"MailReceiver\") # hier e-mail adres receiver of link naar secret\n",
        "\n",
        "subject = \"ik stuur een mail zonder paswoord of e-mail adres te tonen in python script\"\n",
        "\n",
        "\n",
        "contents = \"\"\"\n",
        "in colab moet je een secret aanmaken en daar een app paswoord invoeren\n",
        "je kan secret ook gebruik om de e-mail adressen te verbergen.\n",
        "\"\"\"\n",
        "\n",
        "yag = yagmail.SMTP(user=sender, password=userdata.get(\"driebogen\"))\n",
        "yag.send(to=receiver, subject=subject, contents=contents)\n",
        "print(\"Email Sent!\")"
      ],
      "metadata": {
        "colab": {
          "base_uri": "https://localhost:8080/"
        },
        "id": "djyipof_MNyb",
        "outputId": "1ae09c53-2cf6-48c3-e509-70c23ed496ea"
      },
      "execution_count": 3,
      "outputs": [
        {
          "output_type": "stream",
          "name": "stdout",
          "text": [
            "Requirement already satisfied: yagmail in /usr/local/lib/python3.10/dist-packages (0.15.293)\n",
            "Requirement already satisfied: premailer in /usr/local/lib/python3.10/dist-packages (from yagmail) (3.10.0)\n",
            "Requirement already satisfied: lxml in /usr/local/lib/python3.10/dist-packages (from premailer->yagmail) (4.9.4)\n",
            "Requirement already satisfied: cssselect in /usr/local/lib/python3.10/dist-packages (from premailer->yagmail) (1.2.0)\n",
            "Requirement already satisfied: cssutils in /usr/local/lib/python3.10/dist-packages (from premailer->yagmail) (2.10.2)\n",
            "Requirement already satisfied: requests in /usr/local/lib/python3.10/dist-packages (from premailer->yagmail) (2.31.0)\n",
            "Requirement already satisfied: cachetools in /usr/local/lib/python3.10/dist-packages (from premailer->yagmail) (5.3.3)\n",
            "Requirement already satisfied: charset-normalizer<4,>=2 in /usr/local/lib/python3.10/dist-packages (from requests->premailer->yagmail) (3.3.2)\n",
            "Requirement already satisfied: idna<4,>=2.5 in /usr/local/lib/python3.10/dist-packages (from requests->premailer->yagmail) (3.6)\n",
            "Requirement already satisfied: urllib3<3,>=1.21.1 in /usr/local/lib/python3.10/dist-packages (from requests->premailer->yagmail) (2.0.7)\n",
            "Requirement already satisfied: certifi>=2017.4.17 in /usr/local/lib/python3.10/dist-packages (from requests->premailer->yagmail) (2024.2.2)\n",
            "Email Sent!\n"
          ]
        }
      ]
    }
  ]
}